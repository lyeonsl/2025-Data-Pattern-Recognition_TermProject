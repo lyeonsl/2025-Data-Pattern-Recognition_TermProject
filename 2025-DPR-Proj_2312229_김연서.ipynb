{
  "cells": [
    {
      "cell_type": "markdown",
      "id": "dce7a86d",
      "metadata": {
        "id": "dce7a86d"
      },
      "source": [
        "## [2025 DPR Proj] 인공지능공학부-3학년-2312229-김연서"
      ]
    },
    {
      "cell_type": "markdown",
      "id": "e7b2e49f",
      "metadata": {
        "id": "e7b2e49f"
      },
      "source": [
        "#### (1) 과제명: 산업현장 PPE 객체탐지 모델 구현"
      ]
    },
    {
      "cell_type": "markdown",
      "id": "6135b3b6",
      "metadata": {
        "id": "6135b3b6"
      },
      "source": [
        "#### (2) 과제 선정 사유 및 과제에 대한 구체적인 설명:\n",
        ">- 본 프로젝트는 산업 현장에서 빈번하게 발생하는 안전사고를 사전 방지하기 위한 인공지능 기반 시스템 구축을 목적으로 한다.\n",
        ">- CCTV 등으로 촬영된 작업자 영상에서 개인 보호 장비(PPE) 착용 여부를 YOLOv8 객체 탐지 모델을 통해 자동으로 인식하며, 산업 현장의 실시간 위험 탐지 시스템으로 확장 가능한 기반 기술을 구현하고자 한다."
      ]
    },
    {
      "cell_type": "markdown",
      "id": "d2301a1a",
      "metadata": {
        "id": "d2301a1a"
      },
      "source": [
        "#### (3) 과제에 사용하는 기존 (인터넷 상) 데이터 수급 방법에 대한 설명:\n",
        "> - 고정 주제 데이터 링크 https://github.com/Tsepu/dpr_dataset\n",
        "> - Kaggle에서 제공되는 YOLO 형식 PPE 이미지 데이터셋 https://www.kaggle.com/datasets/shlokraval/ppe-dataset-yolov8"
      ]
    },
    {
      "cell_type": "markdown",
      "id": "3c26a048",
      "metadata": {
        "id": "3c26a048"
      },
      "source": [
        "#### (4) [본인이 생성한 데이터 평가] 데이터 종류 + 건수 + 총 용량 등, 스스로 창조한 데이터에 대한 설명:\n",
        ">- 고정 주제 기반 프로젝트로, 직접 데이터를 수집하지는 않았으나, 제공된 이미지 데이터를 기반으로 다양한 augmentation (회전, 밝기 조절, 크롭 등)을 적용하여 데이터 다양성을 확보함\n",
        ">- 커스텀 학습을 위해 YOLOv8 학습용 YAML 파일(ppe_dataset.yaml)을 생성하여, 사용자 정의 클래스 기반 객체 탐지를 가능하게 함."
      ]
    },
    {
      "cell_type": "markdown",
      "id": "520a3bda",
      "metadata": {
        "id": "520a3bda"
      },
      "source": [
        "#### (5) 사용하는 인공지능 베이스 모델 + 사용 사유 + 타당성:\n",
        "> - 모델: YOLOv8n (Ultralytics)\n",
        "> - 사용 사유: YOLOv8은 최신 객체 탐지 모델로서 속도와 정확도를 모두 갖추었고, 전이학습을 하는데 용이함.\n",
        "> - 타당성: 산업현장의 실시간 위험 탐지와 같은 실제 환경에서는 빠른 추론 속도와 정확한 인식이 요구되므로, YOLOv8은 적합한 선택임. 특히 PPE 탐지라는 작업 특성상 Bounding Box 기반 객체 분류가 필요하며, YOLO는 이 구조에 최적화됨"
      ]
    },
    {
      "cell_type": "markdown",
      "id": "903957e4",
      "metadata": {
        "id": "903957e4"
      },
      "source": [
        "#### (6) 사용하는 전이학습 방법(모델 및 사용법)의 구체적 설명 + 딥네트웍 구조 도식화 및 설명"
      ]
    },
    {
      "cell_type": "markdown",
      "id": "5790412b",
      "metadata": {
        "id": "5790412b"
      },
      "source": [
        "#### (7) [프로그램 코드 및 코드 수준 평가] 소스코드"
      ]
    },
    {
      "cell_type": "code",
      "execution_count": null,
      "id": "487789db",
      "metadata": {
        "id": "487789db"
      },
      "outputs": [],
      "source": []
    },
    {
      "cell_type": "code",
      "execution_count": null,
      "id": "cd5c9913",
      "metadata": {
        "id": "cd5c9913"
      },
      "outputs": [],
      "source": []
    },
    {
      "cell_type": "code",
      "execution_count": null,
      "id": "99684985",
      "metadata": {
        "id": "99684985"
      },
      "outputs": [],
      "source": []
    },
    {
      "cell_type": "markdown",
      "id": "ddb50793",
      "metadata": {
        "id": "ddb50793"
      },
      "source": [
        "#### (8) [단계별 프로그램 수행 보임 및 그 수행 결과 산출 자체에 대한 점수] 도표나 결과 이미지지를 통해 산출"
      ]
    },
    {
      "cell_type": "markdown",
      "id": "f8ee3cb6",
      "metadata": {
        "id": "f8ee3cb6"
      },
      "source": [
        "#### (9) [설명 및 분석 단계] 제시된 수행 결과 분석 + 결과에 대한 구체적 의미 및 정확도, 수행 과정, 결과 의미 등 설명"
      ]
    },
    {
      "cell_type": "markdown",
      "id": "b712f448",
      "metadata": {
        "id": "b712f448"
      },
      "source": [
        "#### (10) 생성한 모델의 기대 효과:"
      ]
    },
    {
      "cell_type": "markdown",
      "id": "18b10f8e",
      "metadata": {
        "id": "18b10f8e"
      },
      "source": [
        "#### (11) 도움을 받은 소스 (친구명, 인터넷 링크명, LLM의 질문 내용, 도움 받은 정도가 과제에 미친 정도 % 명기)"
      ]
    },
    {
      "cell_type": "markdown",
      "id": "ad115240",
      "metadata": {
        "id": "ad115240"
      },
      "source": [
        "#### (12) 상기 과제에 투자한 총 시간: ( ____________) 시간, 아래 구체적 명기\n",
        "#### ①. 주제 선정 시간:\n",
        "#### ②. 모델 설계 시간:\n",
        "#### ③. 데이터 제작 및 수급 관련 시간:\n",
        "#### ④. (딥러닝) 프로그래밍 시간:\n",
        "#### ⑤. (딥러닝) 학습 시간:\n",
        "#### ⑥. 오류 해결 등을 위한 자문 시간 및 자문 대상(사람, 정보) 기술:\n",
        "#### ⑦. 자체 결과 분석 시간:\n",
        "#### ⑧. 결과 보고서 작성 시간:\n",
        "#### ⑨. 최종검토 시간:"
      ]
    },
    {
      "cell_type": "markdown",
      "id": "1377abab",
      "metadata": {
        "id": "1377abab"
      },
      "source": [
        "#### (13) 본 프로젝트 수행을 성장한 부분:"
      ]
    },
    {
      "cell_type": "markdown",
      "id": "600c65c2",
      "metadata": {
        "id": "600c65c2"
      },
      "source": [
        "#### (14) 과제 수행 과정과 결과를 통해, 본인이 요청하는 정직한 점수 및 그 사유:"
      ]
    }
  ],
  "metadata": {
    "language_info": {
      "name": "python"
    },
    "colab": {
      "provenance": [],
      "toc_visible": true
    },
    "kernelspec": {
      "name": "python3",
      "display_name": "Python 3"
    }
  },
  "nbformat": 4,
  "nbformat_minor": 5
}